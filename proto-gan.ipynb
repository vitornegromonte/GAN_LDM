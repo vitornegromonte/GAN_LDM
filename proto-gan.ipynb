{
 "cells": [
  {
   "cell_type": "code",
   "execution_count": null,
   "metadata": {},
   "outputs": [],
   "source": [
    "import os, sys, blob, time, random, math, warnings\n",
    "\n",
    "import numpy as numpy\n",
    "import pandas as pd\n",
    "import matplotlib.pyplot as plt\n",
    "import seaborn as sns\n",
    "import sklearn as sk\n",
    "import scipy as sp\n",
    "import statsmodels as sm\n",
    "\n",
    "# PyTorch\n",
    "import torch, torchvision\n",
    "import torch.nn as nn\n",
    "# Lightining\n",
    "import pytorch_lightning as pl"
   ]
  }
 ],
 "metadata": {
  "language_info": {
   "name": "python"
  }
 },
 "nbformat": 4,
 "nbformat_minor": 2
}
